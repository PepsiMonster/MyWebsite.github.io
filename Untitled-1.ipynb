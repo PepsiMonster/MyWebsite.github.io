{
 "cells": [
  {
   "cell_type": "code",
   "execution_count": 1,
   "metadata": {},
   "outputs": [
    {
     "ename": "ArgumentError",
     "evalue": "ArgumentError: Package DifferentialEquations not found in current path.\n- Run `import Pkg; Pkg.add(\"DifferentialEquations\")` to install the DifferentialEquations package.",
     "output_type": "error",
     "traceback": [
      "ArgumentError: Package DifferentialEquations not found in current path.\n",
      "- Run `import Pkg; Pkg.add(\"DifferentialEquations\")` to install the DifferentialEquations package.\n",
      "\n",
      "Stacktrace:\n",
      "  [1] macro expansion\n",
      "    @ .\\loading.jl:1772 [inlined]\n",
      "  [2] macro expansion\n",
      "    @ .\\lock.jl:267 [inlined]\n",
      "  [3] __require(into::Module, mod::Symbol)\n",
      "    @ Base .\\loading.jl:1753\n",
      "  [4] #invoke_in_world#3\n",
      "    @ .\\essentials.jl:926 [inlined]\n",
      "  [5] invoke_in_world\n",
      "    @ .\\essentials.jl:923 [inlined]\n",
      "  [6] require(into::Module, mod::Symbol)\n",
      "    @ Base .\\loading.jl:1746\n",
      "  [7] eval\n",
      "    @ .\\boot.jl:385 [inlined]\n",
      "  [8] include_string(mapexpr::typeof(REPL.softscope), mod::Module, code::String, filename::String)\n",
      "    @ Base .\\loading.jl:2076\n",
      "  [9] #invokelatest#2\n",
      "    @ .\\essentials.jl:892 [inlined]\n",
      " [10] invokelatest\n",
      "    @ .\\essentials.jl:889 [inlined]\n",
      " [11] (::VSCodeServer.var\"#217#218\"{VSCodeServer.NotebookRunCellArguments, String})()\n",
      "    @ VSCodeServer c:\\Users\\kotof\\.vscode\\extensions\\julialang.language-julia-1.124.2\\scripts\\packages\\VSCodeServer\\src\\serve_notebook.jl:24\n",
      " [12] withpath(f::VSCodeServer.var\"#217#218\"{VSCodeServer.NotebookRunCellArguments, String}, path::String)\n",
      "    @ VSCodeServer c:\\Users\\kotof\\.vscode\\extensions\\julialang.language-julia-1.124.2\\scripts\\packages\\VSCodeServer\\src\\repl.jl:276\n",
      " [13] notebook_runcell_request(conn::VSCodeServer.JSONRPC.JSONRPCEndpoint{Base.PipeEndpoint, Base.PipeEndpoint}, params::VSCodeServer.NotebookRunCellArguments)\n",
      "    @ VSCodeServer c:\\Users\\kotof\\.vscode\\extensions\\julialang.language-julia-1.124.2\\scripts\\packages\\VSCodeServer\\src\\serve_notebook.jl:13\n",
      " [14] dispatch_msg(x::VSCodeServer.JSONRPC.JSONRPCEndpoint{Base.PipeEndpoint, Base.PipeEndpoint}, dispatcher::VSCodeServer.JSONRPC.MsgDispatcher, msg::Dict{String, Any})\n",
      "    @ VSCodeServer.JSONRPC c:\\Users\\kotof\\.vscode\\extensions\\julialang.language-julia-1.124.2\\scripts\\packages\\JSONRPC\\src\\typed.jl:67\n",
      " [15] serve_notebook(pipename::String, debugger_pipename::String, outputchannel_logger::Base.CoreLogging.SimpleLogger; error_handler::var\"#5#10\"{String})\n",
      "    @ VSCodeServer c:\\Users\\kotof\\.vscode\\extensions\\julialang.language-julia-1.124.2\\scripts\\packages\\VSCodeServer\\src\\serve_notebook.jl:147\n",
      " [16] top-level scope\n",
      "    @ c:\\Users\\kotof\\.vscode\\extensions\\julialang.language-julia-1.124.2\\scripts\\notebook\\notebook.jl:35"
     ]
    }
   ],
   "source": [
    "using DifferentialEquations, Plots;\n",
    "function sir(u,p,t) \n",
    "    (S,I,R) = u \n",
    "    (ß, Iγ) = p \n",
    "    N = S+I+R \n",
    "    dS = -(ß*S*I)/N \n",
    "    dI = (ß*I*S)/N - γ*I \n",
    "    dR = γ*I \n",
    "    return [dS, dI, dR ]\n",
    "end\n",
    "N = 10900 \n",
    "I_0 = 210 \n",
    "R_0 = 43 \n",
    "S_0 = N - I_0 - R_0 \n",
    "u0 = [S_0, I_0, R_0] \n",
    "p = [0.1, 0.05] \n",
    "tspan = (0.0, 200.0) \n",
    "prob = ODEProblem(sir, u0, tspan, p) \n",
    "\n",
    "sol = solve(prob, Tsit5(), saveat = 0.1) \n",
    "plot(sol, label = [\"S\" \"I\" \"R\"]) \n",
    "\n",
    "\n",
    "function sir_2(u,p,t) \n",
    "    (S,I,R) = u \n",
    "    (ß, γ) = p \n",
    "    N = S+I+R \n",
    "    dS = 0 \n",
    "    dI = -γ*I\n",
    "    dR = γ*I \n",
    "    return [dS, dI, dR ]\n",
    "end\n",
    "prob_2 = ODEProblem(sir_2, u0, tspan, p) \n",
    "sol_2 = solve(prob_2, Tsit5(), saveat = 0.1) \n",
    "plot(sol_2, label = [\"S\" \"I\" \"R\"]) "
   ]
  }
 ],
 "metadata": {
  "kernelspec": {
   "display_name": "Julia 1.10.5",
   "language": "julia",
   "name": "julia-1.10"
  },
  "language_info": {
   "file_extension": ".jl",
   "mimetype": "application/julia",
   "name": "julia",
   "version": "1.10.5"
  }
 },
 "nbformat": 4,
 "nbformat_minor": 2
}
